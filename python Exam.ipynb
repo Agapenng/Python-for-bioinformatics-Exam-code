{
 "cells": [
  {
   "cell_type": "markdown",
   "id": "fb2f9c62",
   "metadata": {},
   "source": [
    "# Final assessment discription:\n",
    "\n",
    "#### You will complete four tasks, each worth 25 points.\n",
    "\n",
    "#### 1. The final report generated will include screenshots of your code and running results, adding appropriate flow charts, pseudocode, and comments will be considered one of the scoring criteria (please refer to the Module Handbook for details).\n",
    "#### 2. The report for each task should include a description of the purpose of the study, the design of the program, an evaluation of the results, and the strengths and weaknesses of your program.\n",
    "#### 3. The total word count should not exceed 3,000 words.\n",
    "#### 4. Whether the written language of the report meets academic writing standards and whether the report writing is concise and clear. The format of the report will be considered.\n",
    "#### 5. Please save the report in PDF format and upload it to BB. The jupyter notebook source file (.ipynb) of the relevant code also needs to be uploaded to BB."
   ]
  },
  {
   "cell_type": "markdown",
   "id": "74cf5ff9",
   "metadata": {},
   "source": [
    "## Task 1: DNA Sequence Analysis\n",
    "\n",
    "### Problem Statement:\n",
    "You are given a DNA sequence, a string composed of the characters 'A', 'T', 'C', and 'G'. Your task is to write a Python program that performs the following operations:\n",
    "\n",
    "1. Frequency Count: Count the frequency of each nucleotide ('A', 'T', 'C', 'G') in the sequence.\n",
    "2. Reverse Complement: Generate the reverse complement of the DNA sequence. In DNA, 'A' pairs with 'T' and 'C' pairs with 'G'. The reverse complement is formed by reversing the sequence and swapping each nucleotide with its pair.\n",
    "3. Find Subsequence: Write a function that takes a subsequence as input and returns the starting indices of any occurrences of this subsequence in the DNA sequence.\n",
    "\n",
    "Your solution should be efficient and well-commented to explain your logic.\n",
    "\n",
    "Hint: the task expect you use the suitable data structure"
   ]
  },
  {
   "cell_type": "code",
   "execution_count": null,
   "id": "18c2ca78",
   "metadata": {},
   "outputs": [],
   "source": [
    "dna = \"ATCGATCGAACATCGATCATCGATCGAAATCGATCGAACCGAACGATCGATCGAACATATCGATATCGATCGAACCGATCGAACATCGAACCATCGATCGAACGATCGAAC\""
   ]
  },
  {
   "cell_type": "code",
   "execution_count": null,
   "id": "22fabd24",
   "metadata": {},
   "outputs": [
    {
     "name": "stdout",
     "output_type": "stream",
     "text": [
      "A: 40\n",
      "T: 20\n",
      "C: 30\n",
      "G: 21\n"
     ]
    }
   ],
   "source": [
    "# Given DNA sequence\n",
    "dna = \"ATCGATCGAACATCGATCATCGATCGAAATCGATCGAACCGAACGATCGATCGAACATATCGATATCGATCGAACCGATCGAACATCGAACCATCGATCGAACGATCGAAC\"\n",
    "\n",
    "# Initialize a dictionary to store the frequency of each nucleotide\n",
    "frequency = {'A': 0, 'T': 0, 'C': 0, 'G': 0}\n",
    "\n",
    "# Iterate over each nucleotide in the DNA sequence and update the frequency\n",
    "for nucleotide in dna:\n",
    "    if nucleotide in frequency:\n",
    "        frequency[nucleotide] += 1\n",
    "        \n",
    "# Input validation for DNA sequence\n",
    "valid_nucleotides = set(\"ATCG\")\n",
    "if not all(nucleotide in valid_nucleotides for nucleotide in dna):\n",
    "    raise ValueError(\"Invalid DNA sequence. Provide sequence containing only A, T, C, and G.\")\n",
    "\n",
    "# Print the frequency of each nucleotide\n",
    "for nucleotide, count in frequency.items():\n",
    "    print(f\"{nucleotide}: {count}\")\n",
    "\n"
   ]
  },
  {
   "cell_type": "code",
   "execution_count": null,
   "id": "c47e0ce5",
   "metadata": {},
   "outputs": [
    {
     "name": "stdout",
     "output_type": "stream",
     "text": [
      "Reverse complement of the DNA sequence: GTTCGATCGTTCGATCGATGGTTCGATGTTCGATCGGTTCGATCGATATCGATATGTTCGATCGATCGTTCGGTTCGATCGATTTCGATCGATGATCGATGTTCGATCGAT\n"
     ]
    }
   ],
   "source": [
    "# Given DNA sequence\n",
    "dna = \"ATCGATCGAACATCGATCATCGATCGAAATCGATCGAACCGAACGATCGATCGAACATATCGATATCGATCGAACCGATCGAACATCGAACCATCGATCGAACGATCGAAC\"\n",
    "\n",
    "# Function to generate the reverse complement of the DNA sequence\n",
    "def reverse_complement(sequence):\n",
    "    # Dictionary mapping each nucleotide to its complement\n",
    "    complement = {'A': 'T', 'T': 'A', 'C': 'G', 'G': 'C'}\n",
    "    # Generate the reverse complement\n",
    "    return ''.join(complement[nucleotide] for nucleotide in reversed(sequence))\n",
    "\n",
    "# Generate the reverse complement of the DNA sequence\n",
    "reverse_comp = reverse_complement(dna)\n",
    "\n",
    "# Output the reverse complement\n",
    "print(\"Reverse complement of the DNA sequence:\", reverse_comp)"
   ]
  },
  {
   "cell_type": "code",
   "execution_count": null,
   "id": "21115a2d",
   "metadata": {},
   "outputs": [
    {
     "name": "stdout",
     "output_type": "stream",
     "text": [
      "The subsequence 'CGA' was found at the following indices: [2, 6, 13, 20, 24, 30, 34, 39, 43, 47, 51, 60, 66, 70, 75, 79, 86, 94, 98, 102, 106]\n"
     ]
    }
   ],
   "source": [
    "\n",
    "# Given DNA sequence\n",
    "dna = \"ATCGATCGAACATCGATCATCGATCGAAATCGATCGAACCGAACGATCGATCGAACATATCGATATCGATCGAACCGATCGAACATCGAACCATCGATCGAACGATCGAAC\"\n",
    "\n",
    "# Function to find the starting indices of a subsequence in the DNA sequence\n",
    "def find_subsequence(sequence, subsequence):\n",
    "    start_indices = []\n",
    "    sub_len = len(subsequence)\n",
    "    for i in range(len(sequence) - sub_len + 1):\n",
    "        if sequence[i:i+sub_len] == subsequence:\n",
    "            start_indices.append(i)\n",
    "    return start_indices\n",
    "\n",
    "# Example usage:\n",
    "# subsequence to search for\n",
    "subseq = \"CGA\"\n",
    "# Call the function with the DNA sequence and the subsequence\n",
    "indices = find_subsequence(dna, subseq)\n",
    "\n",
    "# Output the starting indices\n",
    "print(f\"The subsequence '{subseq}' was found at the following indices: {indices}\")\n"
   ]
  },
  {
   "cell_type": "code",
   "execution_count": null,
   "id": "896ff6dd",
   "metadata": {},
   "outputs": [
    {
     "data": {
      "image/png": "[encoded data removed]",
      "text/plain": [
       "<Figure size 640x480 with 1 Axes>"
      ]
     },
     "metadata": {},
     "output_type": "display_data"
    }
   ],
   "source": [
    "\n",
    "#  Visualization\n",
    "import matplotlib.pyplot as plt\n",
    "\n",
    "# Calculate GC content\n",
    "gc_content = [1 if base == 'G' or base == 'C' else 0 for base in dna]\n",
    "\n",
    "# Plot histogram\n",
    "plt.hist(gc_content, bins=2, weights=gc_content, color='c')\n",
    "plt.title('GC Content')\n",
    "plt.xlabel('Base ( 1 = GC)')\n",
    "plt.ylabel('Count')\n",
    "plt.show()"
   ]
  },
  {
   "cell_type": "markdown",
   "id": "94f2d8a4",
   "metadata": {},
   "source": [
    "## Task 2: DNA Sequence Mutation Analysis\n",
    "\n",
    "### Problem Statement:\n",
    "You have a DNA sequence represented as a string of characters 'A', 'T', 'C', and 'G'. Your task is to write a Python program that performs the following analysis:\n",
    "\n",
    "1. Find Mutations: Identify all the positions in the DNA sequence where a mutation can result in a specific new nucleotide. You will be given a target nucleotide, and you need to find the positions where changing the original nucleotide to the target nucleotide is possible (Possible Mutation Positions for 'A').\n",
    "2. Count Nucleotide Runs: Count the longest consecutive run of a given nucleotide ('G') in the sequence using a while loop. This means that there is the longest continuous occurrence of the nucleotide \"G\" in that particular sequence.\n",
    "3. Validate Sequence: Check if the DNA sequence is valid (contains only 'A', 'T', 'C', 'G') using a for loop and if statements. If invalid, return an error message."
   ]
  },
  {
   "cell_type": "code",
   "execution_count": null,
   "id": "0e5d8fde",
   "metadata": {},
   "outputs": [],
   "source": [
    "dna = \"ATCGCGGGAACGATCGCACGATCGCAACGACGATCGCATCGCCGACGATCGCATCGCACGATCGCATCGC\""
   ]
  },
  {
   "cell_type": "code",
   "execution_count": null,
   "id": "5dfd3c3f",
   "metadata": {},
   "outputs": [
    {
     "name": "stdout",
     "output_type": "stream",
     "text": [
      "Possible mutation positions for 'A': [1, 2, 3, 4, 5, 6, 7, 10, 11, 13, 14, 15, 16, 18, 19, 21, 22, 23, 24, 27, 28, 30, 31, 33, 34, 35, 36, 38, 39, 40, 41, 42, 43, 45, 46, 48, 49, 50, 51, 53, 54, 55, 56, 58, 59, 61, 62, 63, 64, 66, 67, 68, 69]\n"
     ]
    }
   ],
   "source": [
    "# Given DNA sequence\n",
    "dna = \"ATCGCGGGAACGATCGCACGATCGCAACGACGATCGCATCGCCGACGATCGCATCGCACGATCGCATCGC\"\n",
    "\n",
    "# Function to find possible mutation positions for 'A'\n",
    "def find_mutations(sequence, target_nucleotide):\n",
    "    mutation_positions = []\n",
    "    for i, nucleotide in enumerate(sequence):\n",
    "        if nucleotide != target_nucleotide:\n",
    "            mutation_positions.append(i)\n",
    "    return mutation_positions\n",
    "\n",
    "# Find possible mutation positions for 'A'\n",
    "mutation_positions_for_A = find_mutations(dna, 'A')\n",
    "\n",
    "# Output the positions\n",
    "print(f\"Possible mutation positions for 'A': {mutation_positions_for_A}\")"
   ]
  },
  {
   "cell_type": "code",
   "execution_count": null,
   "id": "27667022",
   "metadata": {},
   "outputs": [
    {
     "name": "stdout",
     "output_type": "stream",
     "text": [
      "Point mutation found at index 0\n"
     ]
    }
   ],
   "source": [
    "\n",
    "mutation_index = dna.find(\"A\")\n",
    "if mutation_index == -1:\n",
    "    print(\"No point mutation found\")\n",
    "else:\n",
    "    print(f\"Point mutation found at index {mutation_index}\")"
   ]
  },
  {
   "cell_type": "code",
   "execution_count": null,
   "id": "e4a69c84",
   "metadata": {},
   "outputs": [
    {
     "name": "stdout",
     "output_type": "stream",
     "text": [
      "The longest consecutive run of 'G' is: 3\n"
     ]
    }
   ],
   "source": [
    "# Given DNA sequence\n",
    "dna = \"ATCGCGGGAACGATCGCACGATCGCAACGACGATCGCATCGCCGACGATCGCATCGCACGATCGCATCGC\"\n",
    "\n",
    "# Function to count the longest run of a given nucleotide\n",
    "def count_longest_run(sequence, nucleotide):\n",
    "    max_run = 0\n",
    "    current_run = 0\n",
    "    i = 0\n",
    "    while i < len(sequence):\n",
    "        if sequence[i] == nucleotide:\n",
    "            current_run += 1\n",
    "            max_run = max(max_run, current_run)\n",
    "        else:\n",
    "            current_run = 0\n",
    "        i += 1\n",
    "    return max_run\n",
    "\n",
    "# Count the longest run of 'G'\n",
    "longest_run_of_G = count_longest_run(dna, 'G')\n",
    "\n",
    "# Output the result\n",
    "print(f\"The longest consecutive run of 'G' is: {longest_run_of_G}\")"
   ]
  },
  {
   "cell_type": "code",
   "execution_count": null,
   "id": "53dd8f4b",
   "metadata": {},
   "outputs": [
    {
     "name": "stdout",
     "output_type": "stream",
     "text": [
      "The GC content is 62.857142857142854%\n"
     ]
    }
   ],
   "source": [
    "# Given DNA sequence\n",
    "dna = \"ATCGCGGGAACGATCGCACGATCGCAACGACGATCGCATCGCCGACGATCGCATCGCACGATCGCATCGC\"\n",
    "# Calculate GC content\n",
    "gc_content = sum([1 for base in dna if base == 'G' or base == 'C']) / len(dna) * 100\n",
    "\n",
    "print(f\"The GC content is {gc_content}%\")"
   ]
  },
  {
   "cell_type": "code",
   "execution_count": null,
   "id": "3c957965",
   "metadata": {},
   "outputs": [
    {
     "name": "stdout",
     "output_type": "stream",
     "text": [
      "The DNA sequence is valid.\n"
     ]
    }
   ],
   "source": [
    "# Given DNA sequence\n",
    "dna = \"ATCGCGGGAACGATCGCACGATCGCAACGACGATCGCATCGCCGACGATCGCATCGCACGATCGCATCGC\"\n",
    "\n",
    "# Function to validate the DNA sequence\n",
    "def validate_sequence(sequence):\n",
    "    valid_nucleotides = {'A', 'T', 'C', 'G'}\n",
    "    for nucleotide in sequence:\n",
    "        if nucleotide not in valid_nucleotides:\n",
    "            return f\"Error: Invalid nucleotide '{nucleotide}' found in the sequence.\"\n",
    "    return \"The DNA sequence is valid.\"\n",
    "\n",
    "# Validate the DNA sequence\n",
    "validation_result = validate_sequence(dna)\n",
    "print(validation_result)"
   ]
  },
  {
   "cell_type": "code",
   "execution_count": null,
   "id": "fef2b1b3",
   "metadata": {},
   "outputs": [
    {
     "data": {
      "image/png": "[encoded data removed]",
      "text/plain": [
       "<Figure size 640x480 with 1 Axes>"
      ]
     },
     "metadata": {},
     "output_type": "display_data"
    }
   ],
   "source": [
    "import matplotlib.pyplot as plt\n",
    "\n",
    "# Calculate GC content\n",
    "gc_content = [1 if base == 'G' or base == 'C' else 0 for base in dna]\n",
    "\n",
    "# Plot histogram\n",
    "plt.hist(gc_content, bins=2, weights=gc_content, color='c')\n",
    "plt.title('GC Content')\n",
    "plt.xlabel('Base ( 1 = GC)')\n",
    "plt.ylabel('Count')\n",
    "plt.show()"
   ]
  },
  {
   "cell_type": "markdown",
   "id": "168f9031",
   "metadata": {},
   "source": [
    "## Task 3: Debugging\n",
    "\n",
    "#### Background: \n",
    "You are given a Python script that is intended to analyze a DNA sequence. The script takes a DNA string as input and calculates the frequency of each nucleotide (A, T, C, G). It also attempts to find the most common triplet (set of three nucleotides, e.g., ATG, TGC) in the sequence.\n",
    "\n",
    "#### Task: \n",
    "The script is not functioning as expected. Your task is to debug the script, ensuring that it accurately calculates nucleotide frequencies and correctly identifies the most common triplet in the DNA sequence."
   ]
  },
  {
   "cell_type": "code",
   "execution_count": null,
   "id": "920c7ffa",
   "metadata": {},
   "outputs": [
    {
     "name": "stdout",
     "output_type": "stream",
     "text": [
      "Nucleotide Frequencies: {'A': 8, 'T': 12, 'C': 8, 'G': 8}\n",
      "Most Common Triplet: GCT\n"
     ]
    }
   ],
   "source": [
    "def nucleotide_frequency(dna_sequence):\n",
    "    frequency = {'A': 0, 'T': 0, 'C': 0, 'G': 0}\n",
    "    for nucleotide in dna_sequence:\n",
    "        if nucleotide in frequency:\n",
    "            frequency[nucleotide] += 1\n",
    "    return frequency\n",
    "\n",
    "def most_common_triplet(dna_sequence):\n",
    "    triplet_count = {}\n",
    "    for i in range(len(dna_sequence) - 2):\n",
    "        triplet = dna_sequence[i:i+3]\n",
    "        if triplet in triplet_count:\n",
    "            triplet_count[triplet] += 1\n",
    "        else:\n",
    "            triplet_count[triplet] = 1\n",
    "    return max(triplet_count, key=triplet_count.get)\n",
    "\n",
    "dna_sequence = \"ATGCTAGCTAGCTAGCTATATATAGCGCGCGCTTTT\"\n",
    "print(\"Nucleotide Frequencies:\", nucleotide_frequency(dna_sequence))\n",
    "print(\"Most Common Triplet:\", most_common_triplet(dna_sequence))"
   ]
  },
  {
   "cell_type": "markdown",
   "id": "e80e1616",
   "metadata": {},
   "source": [
    "#### Issues Reported:\n",
    "\n",
    "1. The nucleotide frequency sometimes returns incorrect counts.\n",
    "2. The most common triplet function does not always return the correct triplet.\n",
    "\n",
    "#### Instructions:\n",
    "\n",
    "1. Debug the provided script to fix the reported issues.\n",
    "2. Explain the bugs you found and how you resolved them.\n",
    "3. Provide a corrected version of the script.\n",
    "4. Test the script with the provided DNA sequence and at least one other sequence of your choice.\n",
    "\n",
    "#### Evaluation Criteria:\n",
    "\n",
    "1. Accuracy in identifying and fixing the bugs.\n",
    "2. Quality of the explanation provided for each bug and its solution.\n",
    "3. The script should work correctly with any valid DNA sequence.\n",
    "4. Code readability and documentation."
   ]
  },
  {
   "cell_type": "code",
   "execution_count": null,
   "id": "d9b083b7",
   "metadata": {},
   "outputs": [
    {
     "name": "stdout",
     "output_type": "stream",
     "text": [
      "Nucleotide Frequencies: {'A': 8, 'T': 12, 'C': 8, 'G': 8}\n",
      "All triplets and their counts: {'ATG': 1, 'TGC': 1, 'GCT': 5, 'CTA': 4, 'TAG': 4, 'AGC': 4, 'TAT': 3, 'ATA': 3, 'GCG': 3, 'CGC': 3, 'CTT': 1, 'TTT': 2}\n",
      "Most Common Triplet: GCT\n"
     ]
    }
   ],
   "source": [
    "def nucleotide_frequency(dna_sequence):\n",
    "    frequency = {'A': 0, 'T': 0, 'C': 0, 'G': 0}\n",
    "    for nucleotide in dna_sequence:\n",
    "        if nucleotide not in frequency:\n",
    "            raise ValueError(\"Invalid nucleotide: \" + nucleotide)\n",
    "        frequency[nucleotide] += 1\n",
    "    return frequency\n",
    "\n",
    "def most_common_triplet(dna_sequence):\n",
    "    if len(dna_sequence) < 3:\n",
    "        raise ValueError(\"Input sequence must be at least 3 nucleotides long\")\n",
    "    triplet_count = {}\n",
    "    for i in range(len(dna_sequence) - 2):\n",
    "        triplet = dna_sequence[i:i+3]\n",
    "        if triplet in triplet_count:\n",
    "            triplet_count[triplet] += 1\n",
    "        else:\n",
    "            triplet_count[triplet] = 1\n",
    "    # Debug: Print all triplets and their counts\n",
    "    print(\"All triplets and their counts:\", triplet_count)\n",
    "    if not triplet_count:\n",
    "        return None\n",
    "    return max(triplet_count, key=triplet_count.get)\n",
    "dna_sequence = \"ATGCTAGCTAGCTAGCTATATATAGCGCGCGCTTTT\"\n",
    "print(\"Nucleotide Frequencies:\", nucleotide_frequency(dna_sequence))\n",
    "print(\"Most Common Triplet:\", most_common_triplet(dna_sequence))"
   ]
  },
  {
   "cell_type": "code",
   "execution_count": null,
   "id": "3ee83b62",
   "metadata": {},
   "outputs": [
    {
     "name": "stdout",
     "output_type": "stream",
     "text": [
      "Nucleotide Frequencies: {'A': 17, 'T': 9, 'C': 25, 'G': 19}\n",
      "All triplets and their counts: {'ATC': 9, 'TCG': 9, 'CGC': 9, 'GCG': 1, 'CGG': 1, 'GGG': 1, 'GGA': 1, 'GAA': 1, 'AAC': 2, 'ACG': 6, 'CGA': 7, 'GAT': 5, 'GCA': 6, 'CAC': 2, 'CAA': 1, 'GAC': 2, 'CAT': 3, 'GCC': 1, 'CCG': 1}\n",
      "Most Common Triplet: ATC\n"
     ]
    }
   ],
   "source": [
    "def nucleotide_frequency(dna_sequence):\n",
    "    frequency = {'A': 0, 'T': 0, 'C': 0, 'G': 0}\n",
    "    for nucleotide in dna_sequence:\n",
    "        if nucleotide not in frequency:\n",
    "            raise ValueError(\"Invalid nucleotide: \" + nucleotide)\n",
    "        frequency[nucleotide] += 1\n",
    "    return frequency\n",
    "\n",
    "def most_common_triplet(dna_sequence):\n",
    "    if len(dna_sequence) < 3:\n",
    "        raise ValueError(\"Input sequence must be at least 3 nucleotides long\")\n",
    "    triplet_count = {}\n",
    "    for i in range(len(dna_sequence) - 2):\n",
    "        triplet = dna_sequence[i:i+3]\n",
    "        if triplet in triplet_count:\n",
    "            triplet_count[triplet] += 1\n",
    "        else:\n",
    "            triplet_count[triplet] = 1\n",
    "    # Debug: Print all triplets and their counts\n",
    "    print(\"All triplets and their counts:\", triplet_count)\n",
    "    if not triplet_count:\n",
    "        return None\n",
    "    return max(triplet_count, key=triplet_count.get)\n",
    "\n",
    "#Testing with random DNA \n",
    "dna_sequence = dna = \"ATCGCGGGAACGATCGCACGATCGCAACGACGATCGCATCGCCGACGATCGCATCGCACGATCGCATCGC\"\n",
    "print(\"Nucleotide Frequencies:\", nucleotide_frequency(dna_sequence))\n",
    "print(\"Most Common Triplet:\", most_common_triplet(dna_sequence))"
   ]
  },
  {
   "cell_type": "code",
   "execution_count": null,
   "id": "c235878e",
   "metadata": {},
   "outputs": [
    {
     "name": "stdout",
     "output_type": "stream",
     "text": [
      "Nucleotide Frequencies: {'A': 17, 'T': 9, 'C': 25, 'G': 19}\n",
      "Most Common Triplet: ['ATC', 'TCG', 'CGC']\n"
     ]
    }
   ],
   "source": [
    "from collections import Counter\n",
    "\n",
    "def most_common_triplet(dna_sequence):\n",
    "    if len(dna_sequence) < 3:\n",
    "        raise ValueError(\"Input sequence must be at least 3 nucleotides long\")\n",
    "    triplet_count = Counter() # initialize an empty counter\n",
    "    for i in range(len(dna_sequence) - 2):\n",
    "        triplet = dna_sequence[i:i+3]\n",
    "        triplet_count[triplet] += 1 # increment the count for each triplet\n",
    "    max_count = max(triplet_count.values()) # find the maximum count\n",
    "    most_common_triplets = [triplet for triplet, count in triplet_count.items() if count == max_count] # filter the triplets that have the maximum count\n",
    "    return most_common_triplets\n",
    "dna_sequence = dna = \"ATCGCGGGAACGATCGCACGATCGCAACGACGATCGCATCGCCGACGATCGCATCGCACGATCGCATCGC\"\n",
    "print(\"Nucleotide Frequencies:\", nucleotide_frequency(dna_sequence))\n",
    "print(\"Most Common Triplet:\", most_common_triplet(dna_sequence))"
   ]
  },
  {
   "cell_type": "code",
   "execution_count": null,
   "id": "ac82d4dc",
   "metadata": {},
   "outputs": [],
   "source": [
    "dna_sequence = \"ATGGCCATTGTAATGGGCCGCTGAAAGGGTGCCCGATAG\""
   ]
  },
  {
   "cell_type": "markdown",
   "id": "53279b50",
   "metadata": {},
   "source": [
    "Task 4: Using BioPython\n",
    "Background:\n",
    "You are tasked with analyzing a given DNA sequence. The analysis involves transcribing the DNA to RNA, translating the RNA to a protein sequence, and then identifying the frequency of each amino acid in the protein.\n",
    "\n",
    "Task:\n",
    "Use BioPython to write a Python script that performs the following steps:\n",
    "\n",
    "Transcribe the DNA sequence to RNA.\n",
    "Translate the RNA sequence to a protein sequence.\n",
    "Calculate and display the frequency of each amino acid in the protein."
   ]
  },
  {
   "cell_type": "markdown",
   "id": "3fe777bb",
   "metadata": {},
   "source": [
    "#### Instructions:\n",
    "\n",
    "1. Write a Python script using BioPython to transcribe and translate the given DNA sequence.\n",
    "2. Calculate the frequency of each amino acid in the resulting protein.\n",
    "3. Comment on each step of your script for clarity."
   ]
  },
  {
   "cell_type": "markdown",
   "id": "9f06422c",
   "metadata": {},
   "source": [
    "#### Evaluation Criteria:\n",
    "\n",
    "1. Correct implementation of transcription and translation using BioPython.\n",
    "2. Accurate calculation of amino acid frequency.\n",
    "3. Clarity and correctness of comments explaining the code.\n",
    "4. The script should handle the provided DNA sequence and be adaptable to other sequences."
   ]
  },
  {
   "cell_type": "code",
   "execution_count": null,
   "id": "191815a8",
   "metadata": {},
   "outputs": [
    {
     "name": "stdout",
     "output_type": "stream",
     "text": [
      "The RNA sequence is: AUGGCCAUUGUAAUGGGCCGCUGAAAGGGUGCCCGAUAG\n",
      "The protein sequence is: MAIVMGR*KGAR*\n",
      "Amino Acid Frequencies: Counter({'M': 2, 'A': 2, 'G': 2, 'R': 2, '*': 2, 'I': 1, 'V': 1, 'K': 1})\n",
      "The frequency of M is 15.38%\n",
      "The frequency of A is 15.38%\n",
      "The frequency of I is 7.69%\n",
      "The frequency of V is 7.69%\n",
      "The frequency of G is 15.38%\n",
      "The frequency of R is 15.38%\n",
      "The frequency of * is 15.38%\n",
      "The frequency of K is 7.69%\n"
     ]
    },
    {
     "data": {
      "image/png": "[encoded data removed]",
      "text/plain": [
       "<Figure size 640x480 with 1 Axes>"
      ]
     },
     "metadata": {},
     "output_type": "display_data"
    }
   ],
   "source": [
    "# Import necessary modules\n",
    "from Bio.Seq import Seq\n",
    "from Bio.SeqUtils.ProtParam import ProteinAnalysis\n",
    "import matplotlib.pyplot as plt\n",
    "from collections import Counter\n",
    "\n",
    "# Define the DNA sequence\n",
    "dna_sequence = Seq(\"ATGGCCATTGTAATGGGCCGCTGAAAGGGTGCCCGATAG\")\n",
    "\n",
    "# Handling Empty Sequences\n",
    "if not dna_sequence:\n",
    "    print(\"Empty DNA sequence.\")\n",
    "\n",
    "# Transcribe the DNA sequence to RNA sequence\n",
    "rna_sequence = dna_sequence.transcribe()\n",
    "print(\"The RNA sequence is:\", rna_sequence)\n",
    "\n",
    "#  Translate the RNA sequence to protein sequence using the standard genetic code\n",
    "protein_sequence = rna_sequence.translate()\n",
    "print(\"The protein sequence is:\", protein_sequence)\n",
    "\n",
    "def amino_acid_frequency(protein_sequence):\n",
    "    # Calculate frequency of each amino acid\n",
    "    frequency = Counter(protein_sequence)\n",
    "    return frequency\n",
    "\n",
    "# Calculate amino acid frequency\n",
    "frequency = amino_acid_frequency(protein_sequence)\n",
    "\n",
    "print(\"Amino Acid Frequencies:\", frequency)\n",
    "\n",
    "# Calculate and display the frequency of each amino acid in the protein sequence\n",
    "amino_acid_counts = Counter(protein_sequence)\n",
    "protein_length = len(protein_sequence)\n",
    "for amino_acid, count in amino_acid_counts.items():\n",
    "    frequency = count / protein_length * 100\n",
    "    print(\"The frequency of {} is {:.2f}%\".format(amino_acid, frequency))\n",
    "\n",
    "# Visualization\n",
    "# Calculate the frequency of each amino acid in the protein sequence\n",
    "aa_freq = ProteinAnalysis(str(protein_sequence)).get_amino_acids_percent()\n",
    "\n",
    "# Plot a histogram graph of the amino acid frequencies\n",
    "plt.bar(aa_freq.keys(), aa_freq.values())\n",
    "plt.xlabel('Amino Acid')\n",
    "plt.ylabel('Frequency (%)')\n",
    "plt.title('Amino Acid Frequency in Protein Sequence')\n",
    "plt.show()\n",
    "\n"
   ]
  }
 ],
 "metadata": {
  "kernelspec": {
   "display_name": "Python 3 (ipykernel)",
   "language": "python",
   "name": "python3"
  },
  "language_info": {
   "codemirror_mode": {
    "name": "ipython",
    "version": 3
   },
   "file_extension": ".py",
   "mimetype": "text/x-python",
   "name": "python",
   "nbconvert_exporter": "python",
   "pygments_lexer": "ipython3",
   "version": "3.11.4"
  }
 },
 "nbformat": 4,
 "nbformat_minor": 5
}
